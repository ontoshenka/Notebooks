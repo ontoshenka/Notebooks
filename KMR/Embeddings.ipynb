{
 "cells": [
  {
   "cell_type": "code",
   "execution_count": 1,
   "id": "4f1151ec-8eab-4095-903a-b03194c1670f",
   "metadata": {},
   "outputs": [],
   "source": [
    "import numpy as np\n",
    "import pandas as pd\n",
    "import os\n",
    "import re\n",
    "from tqdm.notebook import tqdm, trange\n",
    "from razdel import tokenize\n",
    "from pymorphy2 import MorphAnalyzer"
   ]
  },
  {
   "cell_type": "markdown",
   "id": "c3e0ab58-3e43-4456-a6fc-dd841446ce5a",
   "metadata": {},
   "source": [
    "# Загрузка данных "
   ]
  },
  {
   "cell_type": "code",
   "execution_count": 2,
   "id": "54800c75-3a67-446f-b3ee-9e7c142fd930",
   "metadata": {},
   "outputs": [
    {
     "data": {
      "application/vnd.jupyter.widget-view+json": {
       "model_id": "d43b8f3e275c44ad927a2f20eee7af45",
       "version_major": 2,
       "version_minor": 0
      },
      "text/plain": [
       "  0%|          | 0/131669 [00:00<?, ?it/s]"
      ]
     },
     "metadata": {},
     "output_type": "display_data"
    }
   ],
   "source": [
    "n_files = 0\n",
    "for _dir in ['pos', 'neg', 'neu']:\n",
    "    n_files += len(os.listdir(f'data\\{_dir}'))\n",
    "\n",
    "df = []\n",
    "with tqdm(total = n_files) as psbar:\n",
    "    for _dir in ['pos', 'neg', 'neu']:\n",
    "        for file_name in os.listdir(f'data\\{_dir}'):\n",
    "            with open(f'data\\{_dir}\\{file_name}', 'r', encoding = 'UTF-8') as f:\n",
    "                df.append((f.read(), _dir))\n",
    "                psbar.update(1)\n",
    "            \n",
    "df = pd.DataFrame(df, columns = ['review', 'target'])"
   ]
  },
  {
   "cell_type": "markdown",
   "id": "cbc3042f",
   "metadata": {},
   "source": [
    "Это пригодится позже"
   ]
  },
  {
   "cell_type": "code",
   "execution_count": 3,
   "id": "18573c5a",
   "metadata": {},
   "outputs": [],
   "source": [
    "df['target'] = df['target'].map({'neg': 0, 'neu': 1, 'pos': 2})\n",
    "df['target'] = np.array(df['target'].values, dtype = np.int8)"
   ]
  },
  {
   "cell_type": "code",
   "execution_count": 4,
   "id": "c8cc0b70",
   "metadata": {},
   "outputs": [],
   "source": [
    "import pickle\n",
    "with open(r'additional_data\\targets.npy', 'wb') as tr_file:\n",
    "    np.save(tr_file, df['target'].values)"
   ]
  },
  {
   "cell_type": "markdown",
   "id": "8935e601",
   "metadata": {},
   "source": [
    "# Предобработка"
   ]
  },
  {
   "cell_type": "code",
   "execution_count": 5,
   "id": "46c5793d",
   "metadata": {},
   "outputs": [
    {
     "name": "stderr",
     "output_type": "stream",
     "text": [
      "[nltk_data] Downloading package stopwords to\n",
      "[nltk_data]     C:\\Users\\onton\\AppData\\Roaming\\nltk_data...\n",
      "[nltk_data]   Package stopwords is already up-to-date!\n"
     ]
    }
   ],
   "source": [
    "import nltk\n",
    "from nltk.corpus import stopwords\n",
    "nltk.download('stopwords')\n",
    "s_words = stopwords.words('russian')"
   ]
  },
  {
   "cell_type": "code",
   "execution_count": 6,
   "id": "118c941d",
   "metadata": {},
   "outputs": [],
   "source": [
    "def token_is_good(token, stop_words = []):\n",
    "    if len(token) < 4 or len(token) > 25:\n",
    "        return False\n",
    "    if token in stop_words:\n",
    "        return False\n",
    "    if re.fullmatch(r'[А-Яа-яЁёЙй]+', token) is None:\n",
    "        return False\n",
    "    # Если слово содержит в себе три одинаковых символа подряд\n",
    "    if re.match(r'^.*(.)(\\1)(\\1).*$', token) is not None:\n",
    "        return False\n",
    "    return True"
   ]
  },
  {
   "cell_type": "markdown",
   "id": "21c5a59d",
   "metadata": {},
   "source": [
    "Теперь разобьём каждый отзыв на слова"
   ]
  },
  {
   "cell_type": "code",
   "execution_count": 7,
   "id": "56d9b131",
   "metadata": {},
   "outputs": [
    {
     "data": {
      "application/vnd.jupyter.widget-view+json": {
       "model_id": "bbde151dc68048b68ade15529d5a8b20",
       "version_major": 2,
       "version_minor": 0
      },
      "text/plain": [
       "  0%|          | 0/131669 [00:00<?, ?it/s]"
      ]
     },
     "metadata": {},
     "output_type": "display_data"
    }
   ],
   "source": [
    "morph = MorphAnalyzer()\n",
    "tokenized_reviews = []\n",
    "for i in trange(len(df)):\n",
    "    tokenized_reviews.append([morph.parse(tok.text)[0].normal_form for tok in tokenize(df.loc[i, 'review']) if token_is_good(tok.text, s_words)])\n",
    "    # Эквивалентно:\n",
    "    # review = df.loc[i, 'review']\n",
    "    # review = [morph.parse(tok.text)[0].normal_form for tok in tokenize(review) if token_is_good(tok.text, s_words)]\n",
    "    # tokenized_reviews.append(review)\n",
    "    # Дело в том, что так, как это реализовано получается быстрее примерно на 10-15 минут"
   ]
  },
  {
   "cell_type": "code",
   "execution_count": 8,
   "id": "5ef20eb2",
   "metadata": {},
   "outputs": [
    {
     "data": {
      "text/plain": [
       "(187084764, 269076800)"
      ]
     },
     "execution_count": 8,
     "metadata": {},
     "output_type": "execute_result"
    }
   ],
   "source": [
    "import smart_open\n",
    "from gensim.models import Word2Vec\n",
    "\n",
    "EMBEDDING_LEN = 200\n",
    "\n",
    "w2v_model = Word2Vec(min_count = 25,\n",
    "                     window = 7,\n",
    "                     vector_size = EMBEDDING_LEN,\n",
    "                     negative = 10,\n",
    "                     alpha = 0.05,\n",
    "                     min_alpha = 0.0005,\n",
    "                     sample = 1e-4,\n",
    "                     sg = 1,\n",
    "                     hs = 1,\n",
    "                     seed = 42)\n",
    "\n",
    "w2v_model.build_vocab(tokenized_reviews)\n",
    "w2v_model.train(tokenized_reviews, total_examples = w2v_model.corpus_count, epochs = 10, report_delay = 120)"
   ]
  },
  {
   "cell_type": "markdown",
   "id": "f8350d46",
   "metadata": {},
   "source": [
    "Сохраним модель и длину векторного представления слов "
   ]
  },
  {
   "cell_type": "code",
   "execution_count": 17,
   "id": "10ea7f1c",
   "metadata": {},
   "outputs": [],
   "source": [
    "w2v_model.save(r'additional_data\\word2vec.model')"
   ]
  },
  {
   "cell_type": "code",
   "execution_count": 18,
   "id": "472bc1b5",
   "metadata": {},
   "outputs": [],
   "source": [
    "with open(r'additional_data\\embedding_len.pickle', 'wb') as file:\n",
    "    pickle.dump(EMBEDDING_LEN, file)"
   ]
  },
  {
   "cell_type": "markdown",
   "id": "3f667113",
   "metadata": {},
   "source": [
    "И, наконец, удалим из полученных отзывов редкие слова"
   ]
  },
  {
   "cell_type": "code",
   "execution_count": 19,
   "id": "c01ad817",
   "metadata": {},
   "outputs": [
    {
     "data": {
      "application/vnd.jupyter.widget-view+json": {
       "model_id": "4dd90730b3d94c7f85e454778e521778",
       "version_major": 2,
       "version_minor": 0
      },
      "text/plain": [
       "  0%|          | 0/131669 [00:00<?, ?it/s]"
      ]
     },
     "metadata": {},
     "output_type": "display_data"
    }
   ],
   "source": [
    "for i in trange(len(tokenized_reviews)):\n",
    "    tokenized_reviews[i] = [x for x in tokenized_reviews[i] if x in w2v_model.wv]"
   ]
  },
  {
   "cell_type": "markdown",
   "id": "89793d44",
   "metadata": {},
   "source": [
    "Дабы выбрать оптимальную длину (в словах), до которой будут обрезаться или дополняться нулями отзывы, взглянем на распределение их длин "
   ]
  },
  {
   "cell_type": "code",
   "execution_count": 31,
   "id": "331e9872",
   "metadata": {},
   "outputs": [
    {
     "data": {
      "application/vnd.jupyter.widget-view+json": {
       "model_id": "3a3e76b6ef8d4cc59b3094677053d828",
       "version_major": 2,
       "version_minor": 0
      },
      "text/plain": [
       "  0%|          | 0/131669 [00:00<?, ?it/s]"
      ]
     },
     "metadata": {},
     "output_type": "display_data"
    },
    {
     "data": {
      "image/png": "[encoded data removed]",
      "text/plain": [
       "<Figure size 432x288 with 1 Axes>"
      ]
     },
     "metadata": {
      "needs_background": "light"
     },
     "output_type": "display_data"
    }
   ],
   "source": [
    "import seaborn as sns\n",
    "_lens = []\n",
    "\n",
    "for rev in tqdm(tokenized_reviews):\n",
    "    _lens.append(len(rev))\n",
    "    \n",
    "sns.histplot(_lens);"
   ]
  },
  {
   "cell_type": "markdown",
   "id": "fca675fc",
   "metadata": {},
   "source": [
    "# Важно\n",
    "```\n",
    "То, что выше является результатом моей криворукости - я случайно запустил эту ячейку после того, как все отзывы дополнил (обрезал) до длины 500 и теперь, чтоб заново получить исходный график надо запустить блокнот заново, что займёт примерно 3 часа. Как только мой ноутбук будет иметь свободное время (в обозримом будущем он будет перебирать нейросетевые архитектуры), блокнот я обязательно перезапущу.\n",
    "\n",
    "Распределение длин до 500 отражено верно - нули в соответствующих отзывах я обрезал. В остальном, дальше гистограмма продолжает планомерное падение и практически сходит на нет в районе 600-700. Так же имеются крайне редкие выбросы в виде отзывов на более чем 800 слов\n",
    "```"
   ]
  },
  {
   "cell_type": "markdown",
   "id": "202a3977",
   "metadata": {},
   "source": [
    "Кажется, порядка 500 слов должно быть достаточно"
   ]
  },
  {
   "cell_type": "code",
   "execution_count": 32,
   "id": "60b1ca6a",
   "metadata": {},
   "outputs": [
    {
     "data": {
      "application/vnd.jupyter.widget-view+json": {
       "model_id": "cf0e0faf60444c84888a1ef4cab1dbc9",
       "version_major": 2,
       "version_minor": 0
      },
      "text/plain": [
       "  0%|          | 0/131669 [00:00<?, ?it/s]"
      ]
     },
     "metadata": {},
     "output_type": "display_data"
    }
   ],
   "source": [
    "MAX_LEN = 500\n",
    "\n",
    "for i in trange(len(tokenized_reviews)):\n",
    "    _len = len(tokenized_reviews[i])\n",
    "    if _len < MAX_LEN:\n",
    "        tokenized_reviews[i] = ['0'] * (MAX_LEN - _len) + tokenized_reviews[i]\n",
    "    else:\n",
    "        # Если отзыв длинее пятиста слов, берём последние 500, ибо из житейского опыта\n",
    "        # кажется, что если отзыв достаточно длинный, то отношение автора к картине \n",
    "        # раскрывается ближе к концу\n",
    "        tokenized_reviews[i] = tokenized_reviews[i][-MAX_LEN:]"
   ]
  },
  {
   "cell_type": "code",
   "execution_count": 36,
   "id": "baef5809",
   "metadata": {},
   "outputs": [],
   "source": [
    "with open(r'additional_data\\tokenized_reviews.pickle', 'wb') as tr_file, \\\n",
    "     open(r'additional_data\\max_len.pickle', 'wb') as ml_file:\n",
    "    pickle.dump(tokenized_reviews, tr_file)\n",
    "    pickle.dump(MAX_LEN, ml_file)"
   ]
  }
 ],
 "metadata": {
  "kernelspec": {
   "display_name": "Python 3 (ipykernel)",
   "language": "python",
   "name": "python3"
  },
  "language_info": {
   "codemirror_mode": {
    "name": "ipython",
    "version": 3
   },
   "file_extension": ".py",
   "mimetype": "text/x-python",
   "name": "python",
   "nbconvert_exporter": "python",
   "pygments_lexer": "ipython3",
   "version": "3.9.12"
  }
 },
 "nbformat": 4,
 "nbformat_minor": 5
}

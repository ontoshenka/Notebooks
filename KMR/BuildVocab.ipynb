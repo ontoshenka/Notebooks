{
 "cells": [
  {
   "cell_type": "code",
   "execution_count": 1,
   "id": "08f65277",
   "metadata": {},
   "outputs": [],
   "source": [
    "import numpy as np\n",
    "import pandas as pd\n",
    "import os\n",
    "import re\n",
    "from tqdm.notebook import tqdm, trange\n",
    "from razdel import tokenize\n",
    "from pymorphy2 import MorphAnalyzer"
   ]
  },
  {
   "cell_type": "code",
   "execution_count": 3,
   "id": "ee6874be",
   "metadata": {},
   "outputs": [
    {
     "data": {
      "application/vnd.jupyter.widget-view+json": {
       "model_id": "aecb60de97bc4d8aa2cd7a30b963c61c",
       "version_major": 2,
       "version_minor": 0
      },
      "text/plain": [
       "  0%|          | 0/131669 [00:00<?, ?it/s]"
      ]
     },
     "metadata": {},
     "output_type": "display_data"
    }
   ],
   "source": [
    "n_files = 0\n",
    "for _dir in ['pos', 'neg', 'neu']:\n",
    "    n_files += len(os.listdir(f'data\\{_dir}'))\n",
    "\n",
    "df = []\n",
    "with tqdm(total = n_files) as psbar:\n",
    "    for _dir in ['pos', 'neg', 'neu']:\n",
    "        for file_name in os.listdir(f'data\\{_dir}'):\n",
    "            with open(f'data\\{_dir}\\{file_name}', 'r', encoding = 'UTF-8') as f:\n",
    "                df.append((f.read(), _dir))\n",
    "                psbar.update(1)\n",
    "            \n",
    "df = pd.DataFrame(df, columns = ['review', 'target'])"
   ]
  },
  {
   "cell_type": "code",
   "execution_count": 4,
   "id": "31a33703",
   "metadata": {},
   "outputs": [],
   "source": [
    "df['target'] = df['target'].map({'neg': 0, 'neu': 1, 'pos': 2})\n",
    "df['target'] = np.array(df['target'].values, dtype = np.int8)"
   ]
  },
  {
   "cell_type": "code",
   "execution_count": 5,
   "id": "9cb1472d",
   "metadata": {},
   "outputs": [],
   "source": [
    "with open(r'additional_data\\targets.npy', 'wb') as tr_file:\n",
    "    np.save(tr_file, df['target'].values)"
   ]
  },
  {
   "cell_type": "code",
   "execution_count": 7,
   "id": "28b41b95",
   "metadata": {},
   "outputs": [
    {
     "name": "stderr",
     "output_type": "stream",
     "text": [
      "[nltk_data] Downloading package stopwords to\n",
      "[nltk_data]     C:\\Users\\onton\\AppData\\Roaming\\nltk_data...\n",
      "[nltk_data]   Package stopwords is already up-to-date!\n"
     ]
    }
   ],
   "source": [
    "import nltk\n",
    "from nltk.corpus import stopwords\n",
    "nltk.download('stopwords')\n",
    "s_words = stopwords.words('russian')"
   ]
  },
  {
   "cell_type": "code",
   "execution_count": 8,
   "id": "52f24ccc",
   "metadata": {},
   "outputs": [],
   "source": [
    "def token_is_good(token, stop_words = []):\n",
    "    if len(token) < 4 or len(token) > 25:\n",
    "        return False\n",
    "    if token in stop_words:\n",
    "        return False\n",
    "    if re.fullmatch(r'[А-Яа-яЁёЙй]+', token) is None:\n",
    "        return False\n",
    "    # Если слово содержит в себе три одинаковых символа подряд\n",
    "    if re.match(r'^.*(.)(\\1)(\\1).*$', token) is not None:\n",
    "        return False\n",
    "    return True"
   ]
  },
  {
   "cell_type": "code",
   "execution_count": 9,
   "id": "f08ed90d",
   "metadata": {},
   "outputs": [
    {
     "data": {
      "application/vnd.jupyter.widget-view+json": {
       "model_id": "f232cd8237264a1283824f34ed93a9bf",
       "version_major": 2,
       "version_minor": 0
      },
      "text/plain": [
       "  0%|          | 0/131669 [00:00<?, ?it/s]"
      ]
     },
     "metadata": {},
     "output_type": "display_data"
    }
   ],
   "source": [
    "morph = MorphAnalyzer()\n",
    "tokenized_reviews = []\n",
    "for i in trange(len(df)):\n",
    "    tokenized_reviews.append([morph.parse(tok.text)[0].normal_form for tok in tokenize(df.loc[i, 'review']) if token_is_good(tok.text, s_words)])\n",
    "    # Эквивалентно:\n",
    "    # review = df.loc[i, 'review']\n",
    "    # review = [morph.parse(tok.text)[0].normal_form for tok in tokenize(review) if token_is_good(tok.text, s_words)]\n",
    "    # tokenized_reviews.append(review)\n",
    "    # Дело в том, что так, как это реализовано получается быстрее примерно на 10-15 минут"
   ]
  },
  {
   "cell_type": "markdown",
   "id": "d3856758",
   "metadata": {},
   "source": [
    "Сформируем отображение \"слово - целое число\""
   ]
  },
  {
   "cell_type": "code",
   "execution_count": 10,
   "id": "90e59748",
   "metadata": {},
   "outputs": [
    {
     "data": {
      "application/vnd.jupyter.widget-view+json": {
       "model_id": "cc02f5fee3ea4e28926c16b690c423bd",
       "version_major": 2,
       "version_minor": 0
      },
      "text/plain": [
       "  0%|          | 0/131669 [00:00<?, ?it/s]"
      ]
     },
     "metadata": {},
     "output_type": "display_data"
    }
   ],
   "source": [
    "vocabulary = {'<pad>': 0}\n",
    "word_ind = 1 \n",
    "for rev in tqdm(tokenized_reviews):\n",
    "    for word in rev:\n",
    "        if word not in vocabulary:\n",
    "            vocabulary[word] = word_ind\n",
    "            word_ind += 1"
   ]
  },
  {
   "cell_type": "code",
   "execution_count": 12,
   "id": "10df50af",
   "metadata": {},
   "outputs": [],
   "source": [
    "import pickle\n",
    "with open(r'additional_data\\vocab.pickle', 'wb') as vocab_file:\n",
    "    pickle.dump(vocabulary, vocab_file)"
   ]
  },
  {
   "cell_type": "markdown",
   "id": "935da7f3",
   "metadata": {},
   "source": [
    "Посмотрим на распределение длин слов"
   ]
  },
  {
   "cell_type": "code",
   "execution_count": 16,
   "id": "5811e044",
   "metadata": {},
   "outputs": [
    {
     "data": {
      "application/vnd.jupyter.widget-view+json": {
       "model_id": "7ed36885a7824ef8a8ecf3be60cd9916",
       "version_major": 2,
       "version_minor": 0
      },
      "text/plain": [
       "  0%|          | 0/131669 [00:00<?, ?it/s]"
      ]
     },
     "metadata": {},
     "output_type": "display_data"
    },
    {
     "data": {
      "image/png": "[encoded data removed]",
      "text/plain": [
       "<Figure size 432x288 with 1 Axes>"
      ]
     },
     "metadata": {
      "needs_background": "light"
     },
     "output_type": "display_data"
    }
   ],
   "source": [
    "import seaborn as sns\n",
    "_lens = []\n",
    "\n",
    "for rev in tqdm(tokenized_reviews):\n",
    "    _lens.append(len(rev))\n",
    "    \n",
    "sns.histplot(_lens);"
   ]
  },
  {
   "cell_type": "code",
   "execution_count": 17,
   "id": "c222dea7",
   "metadata": {},
   "outputs": [
    {
     "data": {
      "application/vnd.jupyter.widget-view+json": {
       "model_id": "092f947f517b408ca38a6b8d3abe55c0",
       "version_major": 2,
       "version_minor": 0
      },
      "text/plain": [
       "  0%|          | 0/131669 [00:00<?, ?it/s]"
      ]
     },
     "metadata": {},
     "output_type": "display_data"
    }
   ],
   "source": [
    "MAX_LEN = 500\n",
    "\n",
    "for i in trange(len(tokenized_reviews)):\n",
    "    _len = len(tokenized_reviews[i])\n",
    "    if _len < MAX_LEN:\n",
    "        tokenized_reviews[i] = ['<pad>'] * (MAX_LEN - _len) + tokenized_reviews[i]\n",
    "    else:\n",
    "        # Если отзыв длинее пятиста слов, берём последние 500, ибо из житейского опыта\n",
    "        # кажется, что если отзыв достаточно длинный, то отношение автора к картине \n",
    "        # раскрывается ближе к его концу\n",
    "        tokenized_reviews[i] = tokenized_reviews[i][-MAX_LEN:]"
   ]
  },
  {
   "cell_type": "markdown",
   "id": "e185e64c",
   "metadata": {},
   "source": [
    "Заменим в отзывах слова соответствующими числами"
   ]
  },
  {
   "cell_type": "code",
   "execution_count": 22,
   "id": "aff52128",
   "metadata": {},
   "outputs": [
    {
     "data": {
      "application/vnd.jupyter.widget-view+json": {
       "model_id": "32d238fae7514725b57406873a589265",
       "version_major": 2,
       "version_minor": 0
      },
      "text/plain": [
       "  0%|          | 0/131669 [00:00<?, ?it/s]"
      ]
     },
     "metadata": {},
     "output_type": "display_data"
    }
   ],
   "source": [
    "for i in trange(len(tokenized_reviews)):\n",
    "    for j in range(len(tokenized_reviews[i])):\n",
    "        tokenized_reviews[i][j] = vocabulary[tokenized_reviews[i][j]]"
   ]
  },
  {
   "cell_type": "code",
   "execution_count": 28,
   "id": "d12742b1",
   "metadata": {},
   "outputs": [],
   "source": [
    "with open(r'additional_data\\vocab_tokenized_reviews.pickle', 'wb') as tr_file:\n",
    "    pickle.dump(tokenized_reviews, tr_file)"
   ]
  }
 ],
 "metadata": {
  "kernelspec": {
   "display_name": "Python 3 (ipykernel)",
   "language": "python",
   "name": "python3"
  },
  "language_info": {
   "codemirror_mode": {
    "name": "ipython",
    "version": 3
   },
   "file_extension": ".py",
   "mimetype": "text/x-python",
   "name": "python",
   "nbconvert_exporter": "python",
   "pygments_lexer": "ipython3",
   "version": "3.9.12"
  }
 },
 "nbformat": 4,
 "nbformat_minor": 5
}
